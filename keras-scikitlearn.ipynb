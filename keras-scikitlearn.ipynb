{
 "cells": [
  {
   "cell_type": "code",
   "execution_count": 23,
   "metadata": {},
   "outputs": [],
   "source": [
    "#libraries import\n",
    "import pandas as pd\n",
    "import cv2\n",
    "import matplotlib.pyplot as plt\n",
    "from PIL import Image\n",
    "import glob\n",
    "import numpy as np\n",
    "from sklearn.model_selection import train_test_split\n",
    "import numpy as np\n",
    "from matplotlib import pyplot as plt\n",
    "import time\n",
    "from sklearn import preprocessing\n",
    "le = preprocessing.LabelEncoder()\n",
    "from sklearn import metrics"
   ]
  },
  {
   "cell_type": "code",
   "execution_count": 53,
   "metadata": {},
   "outputs": [],
   "source": [
    "df = pd.read_csv(\"./malware-detection/tek_data.csv\")"
   ]
  },
  {
   "cell_type": "code",
   "execution_count": 54,
   "metadata": {},
   "outputs": [],
   "source": [
    "#deleting columnns permanently\n",
    "df = df.drop('ID', axis=1)"
   ]
  },
  {
   "cell_type": "code",
   "execution_count": 55,
   "metadata": {},
   "outputs": [],
   "source": [
    "y = df['legitimate']\n",
    "x = df.drop('legitimate', axis=1)"
   ]
  },
  {
   "cell_type": "code",
   "execution_count": 56,
   "metadata": {
    "scrolled": true
   },
   "outputs": [],
   "source": [
    "x=(x-x.mean())/x.std()"
   ]
  },
  {
   "cell_type": "code",
   "execution_count": 59,
   "metadata": {},
   "outputs": [],
   "source": [
    "x_train, x_test, y_train, y_test = train_test_split(x, y, test_size=0.15, random_state=42)"
   ]
  },
  {
   "cell_type": "code",
   "execution_count": 71,
   "metadata": {},
   "outputs": [
    {
     "name": "stdout",
     "output_type": "stream",
     "text": [
      "_________________________________________________________________\n",
      "Layer (type)                 Output Shape              Param #   \n",
      "=================================================================\n",
      "dense_39 (Dense)             (None, 50)                2750      \n",
      "_________________________________________________________________\n",
      "dense_40 (Dense)             (None, 75)                3825      \n",
      "_________________________________________________________________\n",
      "dense_41 (Dense)             (None, 100)               7600      \n",
      "_________________________________________________________________\n",
      "dense_42 (Dense)             (None, 50)                5050      \n",
      "_________________________________________________________________\n",
      "dense_43 (Dense)             (None, 1)                 51        \n",
      "=================================================================\n",
      "Total params: 19,276\n",
      "Trainable params: 19,276\n",
      "Non-trainable params: 0\n",
      "_________________________________________________________________\n"
     ]
    }
   ],
   "source": [
    "# Define model\n",
    "from keras.models import Sequential\n",
    "from keras.layers import Dense\n",
    "model = Sequential()\n",
    "model.add(Dense(50, input_dim=54, activation= \"relu\"))\n",
    "model.add(Dense(75, activation= \"relu\"))\n",
    "model.add(Dense(100, activation= \"relu\"))\n",
    "model.add(Dense(50, activation= \"relu\"))\n",
    "model.add(Dense(1))\n",
    "model.summary() #Print model Summary"
   ]
  },
  {
   "cell_type": "code",
   "execution_count": 72,
   "metadata": {},
   "outputs": [],
   "source": [
    "# Compile model\n",
    "model.compile(loss= \"mean_squared_error\" , optimizer=\"adam\", metrics=[\"accuracy\"])"
   ]
  },
  {
   "cell_type": "code",
   "execution_count": 74,
   "metadata": {},
   "outputs": [
    {
     "name": "stdout",
     "output_type": "stream",
     "text": [
      "Epoch 1/10\n",
      "117339/117339 [==============================] - 31s 268us/step - loss: 0.0063 - acc: 0.9923\n",
      "Epoch 2/10\n",
      "117339/117339 [==============================] - 31s 261us/step - loss: 0.0065 - acc: 0.9926\n",
      "Epoch 3/10\n",
      "117339/117339 [==============================] - 31s 262us/step - loss: 0.0059 - acc: 0.9927\n",
      "Epoch 4/10\n",
      "117339/117339 [==============================] - 32s 273us/step - loss: 0.0057 - acc: 0.9930\n",
      "Epoch 5/10\n",
      "117339/117339 [==============================] - 32s 275us/step - loss: 0.0056 - acc: 0.99330s - loss: 0.0056 - ac\n",
      "Epoch 6/10\n",
      "117339/117339 [==============================] - 29s 243us/step - loss: 0.0054 - acc: 0.9936\n",
      "Epoch 7/10\n",
      "117339/117339 [==============================] - 26s 222us/step - loss: 0.0054 - acc: 0.9934\n",
      "Epoch 8/10\n",
      "117339/117339 [==============================] - 27s 229us/step - loss: 0.0052 - acc: 0.9938\n",
      "Epoch 9/10\n",
      "117339/117339 [==============================] - 30s 258us/step - loss: 0.0051 - acc: 0.9940\n",
      "Epoch 10/10\n",
      "117339/117339 [==============================] - 30s 258us/step - loss: 0.0050 - acc: 0.9942\n"
     ]
    }
   ],
   "source": [
    "# Fit Model\n",
    "start_time = time.time()\n",
    "model.fit(x_train, y_train, epochs=10)\n",
    "end_time = time.time()"
   ]
  },
  {
   "cell_type": "code",
   "execution_count": 75,
   "metadata": {},
   "outputs": [
    {
     "name": "stdout",
     "output_type": "stream",
     "text": [
      "20708/20708 [==============================] - 3s 145us/step\n",
      "\n",
      "Loss = 0.006588627301675724\n",
      "Test Accuracy = 0.9926115510913657\n"
     ]
    }
   ],
   "source": [
    "preds = model.evaluate(x=x_test, y=y_test)\n",
    "print()\n",
    "print (\"Loss = \" + str(preds[0]))\n",
    "print (\"Test Accuracy = \" + str(preds[1]))"
   ]
  },
  {
   "cell_type": "code",
   "execution_count": 82,
   "metadata": {},
   "outputs": [
    {
     "name": "stdout",
     "output_type": "stream",
     "text": [
      "keras neural network Accuracy: 0.9926598416071084\n",
      "total running time:299.14497780799866\n",
      "precision: 0.9909133584035047\n",
      "recall:0.9917102312478163\n",
      "confusion matrix:[[14358    85]\n",
      " [   67  6198]]\n"
     ]
    }
   ],
   "source": [
    "pred = model.predict_classes(x=x_test)\n",
    "print (\"keras neural network Accuracy: \" + str(metrics.accuracy_score(pred,y_test)))\n",
    "print (\"total running time:\" + str(end_time - start_time))\n",
    "print (\"precision: \" + str(metrics.precision_score(y_test, pred, average='macro')))\n",
    "print (\"recall:\" + str(metrics.recall_score(y_test, pred, average='macro')))\n",
    "print (\"confusion matrix:\" + str(metrics.confusion_matrix(y_test, pred)))"
   ]
  },
  {
   "cell_type": "code",
   "execution_count": 83,
   "metadata": {},
   "outputs": [
    {
     "data": {
      "image/png": "[encoded data removed]",
      "text/plain": [
       "<Figure size 432x288 with 1 Axes>"
      ]
     },
     "metadata": {
      "needs_background": "light"
     },
     "output_type": "display_data"
    },
    {
     "data": {
      "image/png": "[encoded data removed]",
      "text/plain": [
       "<Figure size 432x288 with 1 Axes>"
      ]
     },
     "metadata": {
      "needs_background": "light"
     },
     "output_type": "display_data"
    }
   ],
   "source": [
    "import matplotlib.pyplot as plt\n",
    "def plot_training(history):\n",
    "    acc = history.history.history['acc']\n",
    "    loss = history.history.history['loss']\n",
    "    epochs = range(len(acc))\n",
    "  \n",
    "    plt.plot(epochs, acc, 'r')\n",
    "    plt.title('Training accuracy')\n",
    "  \n",
    "    plt.figure()\n",
    "    plt.plot(epochs, loss, 'r')\n",
    "    plt.title('Training loss')\n",
    "    plt.show()\n",
    "  \n",
    "plot_training(model)"
   ]
  },
  {
   "cell_type": "markdown",
   "metadata": {},
   "source": [
    "# sklearn"
   ]
  },
  {
   "cell_type": "code",
   "execution_count": 70,
   "metadata": {},
   "outputs": [
    {
     "name": "stderr",
     "output_type": "stream",
     "text": [
      "C:\\Users\\Aamir\\AppData\\Local\\conda\\conda\\envs\\[tensorflow]\\lib\\site-packages\\sklearn\\neural_network\\multilayer_perceptron.py:564: UserWarning: Training interrupted by user.\n",
      "  warnings.warn(\"Training interrupted by user.\")\n"
     ]
    },
    {
     "name": "stdout",
     "output_type": "stream",
     "text": [
      "sklearn neural network Accuracy: 0.9746474792350782\n",
      "total running time:0.7992281913757324\n",
      "precision: 0.9725154612385811\n",
      "recall:0.9671836709117532\n",
      "confusion matrix:[[14242   201]\n",
      " [  324  5941]]\n"
     ]
    }
   ],
   "source": [
    "from sklearn.neural_network import MLPClassifier\n",
    "clf = MLPClassifier()\n",
    "start_time = time.time()\n",
    "clf.fit(x_train, y_train)\n",
    "end_time = time.time()\n",
    "pred = clf.predict(x_test)\n",
    "print (\"sklearn neural network Accuracy: \" + str(metrics.accuracy_score(pred,y_test)))\n",
    "print (\"total running time:\" + str(end_time - start_time))\n",
    "print (\"precision: \" + str(metrics.precision_score(y_test, pred, average='macro')))\n",
    "print (\"recall:\" + str(metrics.recall_score(y_test, pred, average='macro')))\n",
    "print (\"confusion matrix:\" + str(metrics.confusion_matrix(y_test, pred)))"
   ]
  }
 ],
 "metadata": {
  "kernelspec": {
   "display_name": "Python 3",
   "language": "python",
   "name": "python3"
  },
  "language_info": {
   "codemirror_mode": {
    "name": "ipython",
    "version": 3
   },
   "file_extension": ".py",
   "mimetype": "text/x-python",
   "name": "python",
   "nbconvert_exporter": "python",
   "pygments_lexer": "ipython3",
   "version": "3.7.2"
  }
 },
 "nbformat": 4,
 "nbformat_minor": 2
}
